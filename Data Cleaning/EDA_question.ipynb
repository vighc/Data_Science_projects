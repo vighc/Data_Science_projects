{
  "cells": [
    {
      "cell_type": "markdown",
      "metadata": {
        "id": "view-in-github",
        "colab_type": "text"
      },
      "source": [
        "<a href=\"https://colab.research.google.com/github/vighc/Data_Science_projects/blob/main/EDA_question.ipynb\" target=\"_parent\"><img src=\"https://colab.research.google.com/assets/colab-badge.svg\" alt=\"Open In Colab\"/></a>"
      ]
    },
    {
      "cell_type": "markdown",
      "source": [
        "### If ur just trying to complete the assessment...  Remove all the codes and just paste below code"
      ],
      "metadata": {
        "id": "uB__vn2Ag2qQ"
      }
    },
    {
      "cell_type": "code",
      "source": [
        "ws_std = 13.06\n",
        "p_range = 12.20\n",
        "corr = 0.76\n",
        "dew_month = 1\n",
        "max_gust_month = 2\n",
        "max_gust_value = 34.50\n",
        "avg_temp = 45.33\n",
        "temp_range = 44.80\n",
        "max_p_range_day = '2018-03-23'\n",
        "num_days_std = 2092\n",
        "median_b_days = 534"
      ],
      "metadata": {
        "id": "kgQEh3jhgN1b"
      },
      "execution_count": null,
      "outputs": []
    },
    {
      "cell_type": "markdown",
      "source": [
        "Now press ctrl + s, then go pack to hackerrank and click on test. Once you get all 11 test cases passed, click on submit"
      ],
      "metadata": {
        "id": "s9S6_cyz2S60"
      }
    },
    {
      "cell_type": "markdown",
      "source": [
        "### Below Codes are only for study purpose. (Do not paste the code in assessment tab)\n"
      ],
      "metadata": {
        "id": "gMmtMLMKg-g0"
      }
    },
    {
      "cell_type": "code",
      "execution_count": null,
      "metadata": {
        "id": "Pq3fMbDKrVfn"
      },
      "outputs": [],
      "source": [
        "import pandas as pd\n",
        "import numpy as np"
      ]
    },
    {
      "cell_type": "code",
      "source": [
        "!gdown --id 1EKcA7vVG8ea9KSkjq98RpwPMpASPJuD8\n",
        "df = pd.read_csv('data.csv')"
      ],
      "metadata": {
        "colab": {
          "base_uri": "https://localhost:8080/"
        },
        "id": "iO2UgeY-sOCM",
        "outputId": "1ca6acea-2e31-4189-a320-0a395571bf6b"
      },
      "execution_count": null,
      "outputs": [
        {
          "output_type": "stream",
          "name": "stdout",
          "text": [
            "/usr/local/lib/python3.7/dist-packages/gdown/cli.py:131: FutureWarning: Option `--id` was deprecated in version 4.3.1 and will be removed in 5.0. You don't need to pass it anymore to use a file ID.\n",
            "  category=FutureWarning,\n",
            "Downloading...\n",
            "From: https://drive.google.com/uc?id=1EKcA7vVG8ea9KSkjq98RpwPMpASPJuD8\n",
            "To: /content/data.csv\n",
            "100% 333k/333k [00:00<00:00, 56.8MB/s]\n"
          ]
        }
      ]
    },
    {
      "cell_type": "markdown",
      "metadata": {
        "id": "976bJnBlrVfp"
      },
      "source": [
        "### What is the standard deviation of maximum windspeed across all the days"
      ]
    },
    {
      "cell_type": "code",
      "execution_count": null,
      "metadata": {
        "colab": {
          "base_uri": "https://localhost:8080/"
        },
        "id": "1VHhG5TurVfq",
        "outputId": "2a6e32e9-f06e-45da-e3eb-cdbb983364cd"
      },
      "outputs": [
        {
          "output_type": "execute_result",
          "data": {
            "text/plain": [
              "13.06"
            ]
          },
          "metadata": {},
          "execution_count": 3
        }
      ],
      "source": [
        "ws_std = round(df['Maximum windspeed (mph)'].std(), 2)\n",
        "ws_std"
      ]
    },
    {
      "cell_type": "markdown",
      "metadata": {
        "id": "PuS6sNjfrVfr"
      },
      "source": [
        "### What is the difference between 50th percentile and 75th percentile of average temperature"
      ]
    },
    {
      "cell_type": "code",
      "execution_count": null,
      "metadata": {
        "colab": {
          "base_uri": "https://localhost:8080/"
        },
        "id": "cco9vl2brVfs",
        "outputId": "71260823-cbcb-49e6-84af-2a09d6f991c4"
      },
      "outputs": [
        {
          "output_type": "execute_result",
          "data": {
            "text/plain": [
              "12.2"
            ]
          },
          "metadata": {},
          "execution_count": 4
        }
      ],
      "source": [
        "p_range = round(df['Average temperature (°F)'].quantile(0.75)-df['Average temperature (°F)'].quantile(0.5), 2)\n",
        "p_range"
      ]
    },
    {
      "cell_type": "markdown",
      "metadata": {
        "id": "InyzVJQLrVfs"
      },
      "source": [
        "### What is the pearson correlation between average dew point and average temperature"
      ]
    },
    {
      "cell_type": "code",
      "execution_count": null,
      "metadata": {
        "colab": {
          "base_uri": "https://localhost:8080/"
        },
        "id": "lIGHYjIcrVft",
        "outputId": "f4896d1f-4090-4aa8-9f13-d04f08ddd6aa"
      },
      "outputs": [
        {
          "output_type": "execute_result",
          "data": {
            "text/plain": [
              "0.76"
            ]
          },
          "metadata": {},
          "execution_count": 5
        }
      ],
      "source": [
        "corr = corr = round(df['Average dewpoint (°F)'].corr(df['Average temperature (°F)'], method='pearson'), 2)\n",
        "corr"
      ]
    },
    {
      "cell_type": "markdown",
      "metadata": {
        "id": "iKi1xvq5rVft"
      },
      "source": [
        "### Out of all the available records which month has the lowest average humidity.\n",
        "    - Assign your answer as month index, for example if its July index is 7"
      ]
    },
    {
      "cell_type": "code",
      "execution_count": null,
      "metadata": {
        "colab": {
          "base_uri": "https://localhost:8080/"
        },
        "id": "hvMwZvxQrVfu",
        "outputId": "0e09b4e5-525d-4e76-ebc1-7edcdb9f4892"
      },
      "outputs": [
        {
          "output_type": "execute_result",
          "data": {
            "text/plain": [
              "1"
            ]
          },
          "metadata": {},
          "execution_count": 6
        }
      ],
      "source": [
        "df['datetime'] = pd.to_datetime(df['Day'], format='%d/%m/%Y')\n",
        "df['Month'] = df['datetime'].dt.month\n",
        "mask = df['Average humidity (%)']==df['Average humidity (%)'].min()\n",
        "dew = df.loc[mask]\n",
        "dew_month = dew['Month'][1300]\n",
        "dew_month"
      ]
    },
    {
      "cell_type": "markdown",
      "metadata": {
        "id": "pCG3byggrVfu"
      },
      "source": [
        "### Which month has the highest median for maximum_gust_speed out of all the available records. Also find the repective value\n",
        "    - hint: group by month"
      ]
    },
    {
      "cell_type": "code",
      "execution_count": null,
      "metadata": {
        "colab": {
          "base_uri": "https://localhost:8080/"
        },
        "id": "CFYlc0DArVfv",
        "outputId": "387b9121-c876-4ba1-add3-795710f40d24"
      },
      "outputs": [
        {
          "output_type": "stream",
          "name": "stdout",
          "text": [
            "34.5\n",
            "2\n"
          ]
        }
      ],
      "source": [
        "df['Month1'] = df['datetime'].dt.month\n",
        "median1 = df.groupby(df['Month']).median()\n",
        "max_gust_value = median1['Maximum gust speed (mph)'].max()\n",
        "mask =  median1['Maximum gust speed (mph)']==median1['Maximum gust speed (mph)'].max()\n",
        "max_gust_month = median1.loc[mask]\n",
        "max_gust_month = max_gust_month['Month1']\n",
        "max_gust_month = int(max_gust_month[2])\n",
        "print(max_gust_value)\n",
        "print(max_gust_month)"
      ]
    },
    {
      "cell_type": "markdown",
      "metadata": {
        "id": "pp2UkuV3rVfv"
      },
      "source": [
        "### Determine the average temperature between the months of March 2010 to May 2012 (including both the months)"
      ]
    },
    {
      "cell_type": "code",
      "execution_count": null,
      "metadata": {
        "colab": {
          "base_uri": "https://localhost:8080/"
        },
        "id": "D0BmL4pTrVfw",
        "outputId": "745d8218-698c-4a1d-8797-a7584f980485"
      },
      "outputs": [
        {
          "output_type": "execute_result",
          "data": {
            "text/plain": [
              "45.33"
            ]
          },
          "metadata": {},
          "execution_count": 8
        }
      ],
      "source": [
        "mask = (df['datetime']>='2010/03/01') & (df['datetime']<'2012/06/01')\n",
        "mask_data = df.loc[mask]\n",
        "avg_temp = round(mask_data['Average temperature (°F)'].mean(), 2)\n",
        "avg_temp"
      ]
    },
    {
      "cell_type": "markdown",
      "metadata": {
        "id": "_KmI6ZpbrVfw"
      },
      "source": [
        "### Find the range of averange temperature  on Dec 2010 "
      ]
    },
    {
      "cell_type": "code",
      "execution_count": null,
      "metadata": {
        "colab": {
          "base_uri": "https://localhost:8080/"
        },
        "id": "AcaYbQ9rrVfw",
        "outputId": "71037926-a5f9-4db8-c3ea-edd0e0e6c133"
      },
      "outputs": [
        {
          "output_type": "execute_result",
          "data": {
            "text/plain": [
              "44.8"
            ]
          },
          "metadata": {},
          "execution_count": 9
        }
      ],
      "source": [
        "mask = (df['datetime']>='2010/12/01') & (df['datetime']<'2011/01/01')\n",
        "mask_data = df.loc[mask]\n",
        "temp_min = mask_data['Average temperature (°F)'].min()\n",
        "temp_max = mask_data['Average temperature (°F)'].max()\n",
        "temp_range = round(temp_max-temp_min, 2)\n",
        "temp_range"
      ]
    },
    {
      "cell_type": "markdown",
      "metadata": {
        "id": "hNXirUykrVfx"
      },
      "source": [
        "### Out of all available records which day has the highest difference between maximum_pressure and minimum_pressure\n",
        "    - assign the date in string format as 'yyyy-mm-dd'. Make sure you enclose it with single quote"
      ]
    },
    {
      "cell_type": "code",
      "execution_count": null,
      "metadata": {
        "colab": {
          "base_uri": "https://localhost:8080/",
          "height": 35
        },
        "id": "cLtcf-o1rVfx",
        "outputId": "aa9d99f3-313c-4b60-ac7d-fb3ee39f5986"
      },
      "outputs": [
        {
          "output_type": "execute_result",
          "data": {
            "text/plain": [
              "'2018-03-23'"
            ],
            "application/vnd.google.colaboratory.intrinsic+json": {
              "type": "string"
            }
          },
          "metadata": {},
          "execution_count": 10
        }
      ],
      "source": [
        "df['pressure_diff'] = df['Maximum pressure ']-df['Minimum pressure ']\n",
        "max_p_range_day = df[df['pressure_diff']==df['pressure_diff'].max()].datetime\n",
        "max_p_range_day = max_p_range_day.to_string(index=False)\n",
        "max_p_range_day"
      ]
    },
    {
      "cell_type": "markdown",
      "metadata": {
        "id": "USsKQ9WrrVfy"
      },
      "source": [
        "### How many days falls under median (i.e equal to median value) of barrometer reading."
      ]
    },
    {
      "cell_type": "code",
      "execution_count": null,
      "metadata": {
        "colab": {
          "base_uri": "https://localhost:8080/"
        },
        "id": "CV64DKturVfy",
        "outputId": "f4b5f4b5-2134-465b-bc1d-ae5863776355"
      },
      "outputs": [
        {
          "output_type": "execute_result",
          "data": {
            "text/plain": [
              "534"
            ]
          },
          "metadata": {},
          "execution_count": 11
        }
      ],
      "source": [
        "med = df[df['Average barometer (in)']==df['Average barometer (in)'].median()]\n",
        "median_b_days = len(med) \n",
        "median_b_days"
      ]
    },
    {
      "cell_type": "markdown",
      "metadata": {
        "id": "OJDKyKYgrVfz"
      },
      "source": [
        "### Out of all the available records how many days are within one standard deviation of average temperaturem"
      ]
    },
    {
      "cell_type": "code",
      "execution_count": null,
      "metadata": {
        "colab": {
          "base_uri": "https://localhost:8080/"
        },
        "id": "LhSBB9xdrVfz",
        "outputId": "bc4ae57b-b265-4652-9036-728ee09488aa"
      },
      "outputs": [
        {
          "output_type": "execute_result",
          "data": {
            "text/plain": [
              "2092"
            ]
          },
          "metadata": {},
          "execution_count": 12
        }
      ],
      "source": [
        "std = df['Average temperature (°F)'].std()\n",
        "mean = df['Average temperature (°F)'].mean()\n",
        "no_days = df[(df['Average temperature (°F)'] >= mean-std) & (df['Average temperature (°F)'] <= mean + std)]\n",
        "num_days_std =  len(no_days)  \n",
        "num_days_std"
      ]
    },
    {
      "cell_type": "markdown",
      "metadata": {
        "id": "k0J4HzperVfz"
      },
      "source": [
        "## Once you are done with your solution make sure you have saved the notebook (ctrl + s)"
      ]
    }
  ],
  "metadata": {
    "kernelspec": {
      "display_name": "Python 3",
      "language": "python",
      "name": "python3"
    },
    "language_info": {
      "codemirror_mode": {
        "name": "ipython",
        "version": 3
      },
      "file_extension": ".py",
      "mimetype": "text/x-python",
      "name": "python",
      "nbconvert_exporter": "python",
      "pygments_lexer": "ipython3",
      "version": "3.5.2"
    },
    "colab": {
      "name": "EDA_question.ipynb",
      "provenance": [],
      "collapsed_sections": [],
      "include_colab_link": true
    }
  },
  "nbformat": 4,
  "nbformat_minor": 0
}